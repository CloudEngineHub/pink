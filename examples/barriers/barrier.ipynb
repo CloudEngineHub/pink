{
 "cells": [
  {
   "cell_type": "markdown",
   "metadata": {},
   "source": [
    "# Control Barrier Functions"
   ]
  },
  {
   "cell_type": "markdown",
   "metadata": {},
   "source": [
    "This notebook introduces the concept of control barriers and illustrates how to use them in Pink."
   ]
  },
  {
   "cell_type": "code",
   "execution_count": 1,
   "metadata": {},
   "outputs": [],
   "source": [
    "import meshcat_shapes\n",
    "import numpy as np\n",
    "import qpsolvers\n",
    "from loop_rate_limiters import RateLimiter\n",
    "\n",
    "import pink\n",
    "from pink import solve_ik\n",
    "from pink.barriers import PositionBarrier, ConfigurationBarrier, BodySphericalBarrier\n",
    "from pink.tasks import FrameTask, PostureTask\n",
    "from pink.visualization import start_meshcat_visualizer\n",
    "import pinocchio as pin\n",
    "\n",
    "from IPython.display import display\n",
    "\n",
    "from robot_descriptions.loaders.pinocchio import load_robot_description"
   ]
  },
  {
   "cell_type": "code",
   "execution_count": 2,
   "metadata": {},
   "outputs": [],
   "source": [
    "# Robot model and basic configuration for UR5 robot\n",
    "ur5_robot = load_robot_description(\"ur5_description\", root_joint=None)\n",
    "ur5_q_ref = np.array(\n",
    "    [\n",
    "        1.27153374,\n",
    "        -0.87988708,\n",
    "        1.89104795,\n",
    "        1.73996951,\n",
    "        -0.24610945,\n",
    "        -0.74979019,\n",
    "    ]\n",
    ")\n",
    "ur5_configuration = pink.Configuration(ur5_robot.model, ur5_robot.data, ur5_q_ref)"
   ]
  },
  {
   "cell_type": "code",
   "execution_count": 3,
   "metadata": {},
   "outputs": [],
   "source": [
    "# Robot model and basic configuration for Yumi robot\n",
    "yumi_robot = load_robot_description(\"yumi_description\", root_joint=None)\n",
    "\n",
    "# Introducing new frames, which will be used for collision-avoidance barrier later:\n",
    "# Left frame\n",
    "l_frame_placement = pin.SE3()\n",
    "l_frame_placement.translation = np.array([0.0, 0.0, 0.05])\n",
    "l_frame_placement.rotation = np.eye(3)\n",
    "\n",
    "l_frame = pin.Frame(\n",
    "    \"yumi_barrier_l\",\n",
    "    yumi_robot.model.getJointId(\"yumi_joint_6_l\"),\n",
    "    yumi_robot.model.getFrameId(\"yumi_link_7_l\"),\n",
    "    l_frame_placement,\n",
    "    pin.FrameType.OP_FRAME,\n",
    ")\n",
    "\n",
    "# Right frame\n",
    "r_frame_placement = pin.SE3()\n",
    "r_frame_placement.translation = np.array([0.0, 0.0, 0.05])\n",
    "r_frame_placement.rotation = np.eye(3)\n",
    "\n",
    "r_frame = pin.Frame(\n",
    "    \"yumi_barrier_r\",\n",
    "    yumi_robot.model.getJointId(\"yumi_joint_6_r\"),\n",
    "    yumi_robot.model.getFrameId(\"yumi_link_7_r\"),\n",
    "    r_frame_placement,\n",
    "    pin.FrameType.OP_FRAME,\n",
    ")\n",
    "\n",
    "yumi_robot.model.addFrame(l_frame)\n",
    "yumi_robot.model.addFrame(r_frame)\n",
    "\n",
    "yumi_robot.data = pin.Data(yumi_robot.model)\n",
    "\n",
    "\n",
    "yumi_q_ref = np.array(\n",
    "    [\n",
    "        0.045,\n",
    "        -0.155,\n",
    "        -0.394,\n",
    "        -0.617,\n",
    "        -0.939,\n",
    "        -0.343,\n",
    "        -1.216,\n",
    "        0,\n",
    "        0,\n",
    "        -0.374,\n",
    "        -0.249,\n",
    "        0.562,\n",
    "        -0.520,\n",
    "        0.934,\n",
    "        -0.337,\n",
    "        1.400,\n",
    "        0,\n",
    "        0,\n",
    "    ]\n",
    ")\n",
    "yumi_configuration = pink.Configuration(yumi_robot.model, yumi_robot.data, yumi_q_ref)"
   ]
  },
  {
   "cell_type": "markdown",
   "metadata": {},
   "source": [
    "# Introduction"
   ]
  },
  {
   "cell_type": "markdown",
   "metadata": {},
   "source": [
    "Control barrier functions (CBFs) are used to enforce safety for nonlinear control affine systems of the form:\n",
    "\n",
    "$$\n",
    "\\dot{x}=f(x)+g(x) u\n",
    "$$\n",
    "\n",
    "where $f$ and $g$ are locally Lipschitz, $x \\in D \\subset \\mathbb{R}^{n}$, and $u \\in U \\subset \\mathbb{R}^{m}$ is the set of admissible inputs."
   ]
  },
  {
   "cell_type": "markdown",
   "metadata": {},
   "source": [
    "## Safety and Safe Sets"
   ]
  },
  {
   "cell_type": "markdown",
   "metadata": {},
   "source": [
    "\n",
    "Safety is framed in the context of enforcing invariance of a set, i.e., not leaving a safe set. Consider a set $\\mathcal{S}$ defined as the superlevel set of a continuously differentiable function $h: D \\subset \\mathbb{R}^{n} \\rightarrow \\mathbb{R}$:\n",
    "\n",
    "$$\n",
    "\\begin{aligned}\n",
    "\\mathcal{S} & =\\left\\{x \\in D \\subset \\mathbb{R}^{n}: h(x) \\geq 0\\right\\} \\\\\n",
    "\\partial \\mathcal{S} & =\\left\\{x \\in D \\subset \\mathbb{R}^{n}: h(x)=0\\right\\} \\\\\n",
    "\\operatorname{Int}(\\mathcal{S}) & =\\left\\{x \\in D \\subset \\mathbb{R}^{n}: h(x)>0\\right\\}\n",
    "\\end{aligned}\n",
    "$$\n",
    "\n",
    "We refer to $\\mathcal{S}$ as the safe set. The system is safe with respect to the set $\\mathcal{S}$ if the set $\\mathcal{S}$ is forward invariant. Formally, the set $\\mathcal{S}$ is forward invariant if for every $x_{0} \\in \\mathcal{S}$, the solution $x(t)$ satisfying $x(0)=x_0$ remains in $\\mathcal{S}$ for all $t$."
   ]
  },
  {
   "cell_type": "markdown",
   "metadata": {},
   "source": [
    "## Control Barrier Functions"
   ]
  },
  {
   "cell_type": "markdown",
   "metadata": {},
   "source": [
    "\n",
    "A function $h$ is a control barrier function (CBF) if there exists an extended class $\\mathcal{K}_{\\infty}$ function $\\alpha$ such that:\n",
    "\n",
    "$$\n",
    "\\sup _{u \\in U}\\left[L_{f} h(x)+L_{g} h(x) u\\right] \\geq-\\alpha(h(x))\n",
    "$$\n",
    "\n",
    "for all $x \\in D$. Here $L_f h$ and $L_g h$ denote the Lie derivatives of $h$ along $f$ and $g$.\n",
    "\n",
    "The set of all control values that render $\\mathcal{S}$ safe is:\n",
    "\n",
    "$$\n",
    "K_{\\mathrm{cbf}}(x)=\\left\\{u \\in U: L_{f} h(x)+L_{g} h(x) u+\\alpha(h(x)) \\geq 0\\right\\}\n",
    "$$\n",
    "\n",
    "The main result regarding CBFs is that their existence implies the control system is safe:\n",
    "\n",
    "**Theorem:** Let $\\mathcal{S} \\subset \\mathbb{R}^{n}$ be a set defined as the superlevel set of a continuously differentiable function $h: D \\subset \\mathbb{R}^{n} \\rightarrow \\mathbb{R}$. If $h$ is a CBF on $D$ and $\\frac{\\partial h}{\\partial x}(x) \\neq 0$ for all $x \\in \\partial \\mathcal{S}$, then any Lipschitz continuous controller $u(x) \\in K_{\\mathrm{cbf}}(x)$ renders the set $\\mathcal{S}$ safe and asymptotically stable in $D$."
   ]
  },
  {
   "cell_type": "markdown",
   "metadata": {},
   "source": [
    "## Optimization Based Control\n",
    "\n",
    "To synthesize safety-critical controllers, we can solve a quadratic program (QP) to minimally modify an existing controller $k(x)$ to guarantee safety:\n",
    "\n",
    "$$\n",
    "\\begin{aligned}\n",
    "u(x)=\\underset{u \\in \\mathbb{R}^{m}}{\\operatorname{argmin}} & \\frac{1}{2}\\|u-k(x)\\|^{2} \\quad(\\mathrm{CBF}-\\mathrm{QP}) \\\\\n",
    "\\text { s.t. } & L_{f} h(x)+L_{g} h(x) u \\geq-\\alpha(h(x))\n",
    "\\end{aligned}\n",
    "$$\n",
    "\n",
    "When there are no input constraints ($U=\\mathbb{R}^m$), the CBF-QP has a closed-form solution given by the min-norm controller."
   ]
  },
  {
   "cell_type": "markdown",
   "metadata": {},
   "source": [
    "## Discrete-Time Implementations\n",
    "\n",
    "Discrete-time implementations of continuous-time CBF-based safety filters can lead to some challenges. When solving the CBF-QP at a sampling time $\\Delta t>0$, safety is only guaranteed at the initial time step $t_{0}$, but not for the open time interval $(t_{0}, t_{0}+\\Delta t)$. Suboptimal performance can arise when $\\|L_{g} L_{f}^{s-1} h(x)\\| \\rightarrow 0$, as large inputs permissible by the CBF condition applied over the finite time interval could result in undesirable behavior.\n",
    "\n",
    "Another issue occurs when $L_{g} L_{f}^{s-1} h(x)=0$, indicating a local relative degree higher than $s$. In such cases, the safety controller becomes inactive, allowing potentially unsafe control inputs $k(x)$ to be applied for at least the time interval $[t_{0}, t_{0}+\\Delta t)$, which may lead to safe set violations or suboptimal performance.\n",
    "\n",
    "One method to handle the case of $\\|L_{g} L_{f}^{s-1} h(x)\\| \\rightarrow 0$ is by modifying the safety filter objective function. We can add a term that explicitly accounts for $L_{g} L_{f}^{s-1} h(x)$ becoming close to 0. The proposed modified safety filtering objective is:\n",
    "\n",
    "$$\n",
    "J(x)=\\frac{1}{2}\\|u-k(x)\\|^{2}+\\frac{r}{2\\|L_{g} L_{f}^{s-1} h(x)\\|^{2}}\\|u-k_{\\text{safe}}(x)\\|^{2}\n",
    "$$\n",
    "\n",
    "where $k_{\\text{safe}}$ is a known safe backup control policy (e.g., a stabilizing controller that renders $\\mathcal{S}$ control invariant). The parameter $r>0$ is a weighting factor.\n",
    "\n",
    "This new objective replaces the standard CBF-QP objective for all $\\|L_{g} L_{f}^{s-1} h(x)\\|>\\epsilon$, where $\\epsilon$ is a small positive number. The closer $\\|L_{g} L_{f}^{s-1} h(x)\\|$ gets to 0, the greater the impact of the second term in the safety filtering objective. In this case, the safety filter will track the safe backup control policy instead of the potentially unsafe control policy $k(x)$. The weighting parameter $r$ determines the balance between the two terms when $\\|L_{g} L_{f}^{s-1} h(x)\\|$ is far from 0. To avoid numerical instabilities, we set $u(x)=k_{\\text{safe}}(x)$ when the system is in a state $x$ such that $\\|L_{g} L_{f}^{s-1} h(x)\\| \\leq \\epsilon$.\n",
    "\n",
    "The modified CBF-QP with the penalty term becomes:\n",
    "\n",
    "$$\n",
    "\\begin{aligned}\n",
    "u(x)=\\underset{u \\in \\mathbb{R}^{m}}{\\operatorname{argmin}} & \\frac{1}{2}\\|u-k(x)\\|^{2}+\\frac{r}{2\\|L_{g} L_{f}^{s-1} h(x)\\|^{2}}\\|u-k_{\\text{safe}}(x)\\|^{2} \\\\\n",
    "\\text{s.t.} & L_{f} h(x)+L_{g} h(x) u \\geq-\\alpha(h(x))\n",
    "\\end{aligned}\n",
    "$$\n",
    "\n",
    "This strategy requires almost no additional computational effort. However, in practice, the design of the safe backup control policy $k_{\\text{safe}}$ will require some attention. The backup policy should be able to return the system to states where $\\|L_{g} L_{f}^{s-1} h(x)\\|>\\epsilon$. Otherwise, the system will continue using the backup control policy $k_{\\text{safe}}$ for all future time."
   ]
  },
  {
   "cell_type": "markdown",
   "metadata": {},
   "source": [
    "## CBF in Differential IK"
   ]
  },
  {
   "cell_type": "markdown",
   "metadata": {},
   "source": [
    "\n",
    "Let us study how CBF theory can be applied to solve the multitask inverse kinematics problem subject to configuration-based nonlinear inequalities. \n",
    "\n",
    "Mathematically, our goal is to find the configuration motion $\\boldsymbol{q}(t) \\in \\mathcal{C}$ such that:\n",
    "\n",
    "$$\n",
    "\\boldsymbol{r}_i(\\boldsymbol{q})=\\boldsymbol{p}_i^{*}-\\boldsymbol{p}_i(\\boldsymbol{q})\n",
    "$$\n",
    "\n",
    "where $\\boldsymbol{p}_i^{*}$ is the desired task reference, $\\boldsymbol{r}_i(\\boldsymbol{q})$ is the task residual error, and $\\boldsymbol{p}_i(\\boldsymbol{q})$ is the forward kinematics function mapping configuration variables to task space.\n",
    "\n",
    "In addition to the kinematic tasks, suppose we want to enforce the following nonlinear safety constraints:\n",
    "\n",
    "$$\n",
    "h_j(\\boldsymbol{q}) \\geq 0\n",
    "$$\n",
    "\n",
    "Directly solving this constrained optimization problem can lead to challenging nonlinear programs. However, in the context of differential inverse kinematics, we can leverage CBFs to reformulate the problem as a quadratic program (QP) with linear inequality constraints.\n"
   ]
  },
  {
   "cell_type": "markdown",
   "metadata": {},
   "source": [
    "## CBF QP Formulation\n",
    "\n",
    "Differentiating the kinematic task errors once and introducing stabilizing feedback gains yields the following QP formulation:\n",
    "\n",
    "$$\n",
    "\\underset{\\dot{\\boldsymbol{q}}}{\\operatorname{minimize}} \\sum_{\\operatorname{task} i} w_{i}\\left\\|\\boldsymbol{J}_{i} \\dot{\\boldsymbol{q}}-K_{i} \\boldsymbol{v}_{i}\\right\\|^{2}\n",
    "$$\n",
    "\n",
    "Here, $\\boldsymbol{J}_i$ is the task Jacobian, $K_i$ is a positive definite feedback gain matrix, and $\\boldsymbol{v}_i$ is an auxiliary control input. By treating joint velocities $\\dot{\\boldsymbol{q}}$ as optimization variables, we can incorporate the safety constraints $h_j(\\boldsymbol{q}) \\geq 0$ as CBF conditions:\n",
    "\n",
    "$$\n",
    "\\dot{h}_j(\\boldsymbol{q})+\\alpha_j(h_j(\\boldsymbol{q})) = \\frac{\\partial h_j}{\\partial \\boldsymbol{q}} \\dot{\\boldsymbol{q}} +\\alpha_j(h_j(\\boldsymbol{q})) \\geq 0\n",
    "$$\n",
    "\n",
    "Enforcing this constraint ensures the system remains within the safe set $\\mathcal{S}_j =\\left\\{\\boldsymbol{q} \\in D \\subset \\mathbb{R}^{n}: h_j(\\boldsymbol{q}) \\geq 0\\right\\}$. The extended class $\\mathcal{K}$ function $\\alpha_j$ provides a safety margin.\n",
    "\n",
    "Combining the kinematic tasks and CBF constraints, we arrive at the differentiable IK optimization problem with safety guarantees:\n",
    "\n",
    "$$\n",
    "\\begin{aligned}\n",
    "& \\underset{\\dot{\\boldsymbol{q}}}{\\operatorname{minimize}} \\sum_{\\text {task } i} w_{i}\\left\\|\\boldsymbol{J}_{i}(\\boldsymbol{q}) \\dot{\\boldsymbol{q}}-K_{i} \\boldsymbol{v}_{i}\\right\\|^{2} + \\gamma(\\boldsymbol{q})\\left\\| \\dot{\\boldsymbol{q}}-\\dot{\\boldsymbol{q}}_{safe}(\\boldsymbol{q})\\right\\|^{2} \\\\\n",
    "& \\text { subject to: } \\frac{\\partial \\boldsymbol{h}_j}{\\partial \\boldsymbol{q}} \\dot{\\boldsymbol{q}} +\\alpha_j(\\boldsymbol{h}_j(\\boldsymbol{q})) \\geq 0, \\quad \\forall j\n",
    "\\end{aligned}\n",
    "$$\n",
    "\n",
    "The configuration-dependent weight $\\gamma(\\boldsymbol{q})$, often chosen as $(\\|\\partial h_j \\|  +\\epsilon)^{-1}w_h$, ensures safety takes precedence when close to constraint boundaries. The safe backup policy $\\dot{\\boldsymbol{q}}_{safe}(\\boldsymbol{q})$ provides a fallback when $\\|\\partial h_j \\|$ approaches zero. A simple choice is the zero-velocity policy $\\dot{\\boldsymbol{q}}_{safe} = \\boldsymbol{0}$, which stops the robot. Alternatively, one can stabilize to a safe initial configuration."
   ]
  },
  {
   "cell_type": "markdown",
   "metadata": {},
   "source": [
    "# Control Barrier Functions in Pink"
   ]
  },
  {
   "cell_type": "markdown",
   "metadata": {},
   "source": [
    "In pink, Contorl Barrier Functions are implemented based on `Barrier` class. It defines general logic of computing the cost and constraint, using barrier function $\\boldsymbol{h}$ and its jacobian $\\frac{\\partial h_j}{\\partial \\boldsymbol{q}}$. Also, each specific barrier might overwrite a safe backup policy $\\dot{\\boldsymbol{q}}_{safe}(\\boldsymbol{q})$, which equals to zero by default."
   ]
  },
  {
   "cell_type": "markdown",
   "metadata": {},
   "source": [
    "The following sections describe the implementation of each barrier in pink."
   ]
  },
  {
   "cell_type": "markdown",
   "metadata": {},
   "source": [
    "## Position barrier"
   ]
  },
  {
   "cell_type": "markdown",
   "metadata": {},
   "source": [
    "Position barrier incorporates constraint on the position of specified frame:\n",
    "$$p_{min} \\leq p \\leq p_{max}$$\n",
    "which could be writeen in the form $h(q) \\geq 0$ as:\n",
    "$$h_j(\\boldsymbol{q}) = \\begin{cases} \n",
    "      p_j - p_j^{min} & j = 1,\\dots,n \\\\\n",
    "      p_j^{max} - p_j & j = n+1,\\dots,2n\n",
    "   \\end{cases}$$\n",
    "\n",
    "\n",
    "which is incorporated as single constraint with optional minimal and maximal bounds. Also, it could be applied not to all positions of the frame, but only to specified indices of the position."
   ]
  },
  {
   "cell_type": "markdown",
   "metadata": {},
   "source": [
    "See the following example of position barrier, applied to the end-effector of UR5 robot:"
   ]
  },
  {
   "cell_type": "code",
   "execution_count": 4,
   "metadata": {},
   "outputs": [
    {
     "name": "stdout",
     "output_type": "stream",
     "text": [
      "You can open the visualizer by visiting the following URL:\n",
      "http://127.0.0.1:7022/static/\n"
     ]
    },
    {
     "data": {
      "text/html": [
       "\n",
       "            <div style=\"height: 400px; width: 100%; overflow-x: auto; overflow-y: hidden; resize: both\">\n",
       "            <iframe src=\"http://127.0.0.1:7022/static/\" style=\"width: 100%; height: 100%; border: none\"></iframe>\n",
       "            </div>\n",
       "            "
      ],
      "text/plain": [
       "<IPython.core.display.HTML object>"
      ]
     },
     "metadata": {},
     "output_type": "display_data"
    },
    {
     "name": "stderr",
     "output_type": "stream",
     "text": [
      "WARNING:root:rate limiter is late by -3.400000 [ms]\n",
      "WARNING:root:rate limiter is late by -0.900000 [ms]\n",
      "WARNING:root:rate limiter is late by -12.900000 [ms]\n",
      "WARNING:root:rate limiter is late by -1.400000 [ms]\n",
      "WARNING:root:rate limiter is late by -12.800000 [ms]\n",
      "WARNING:root:rate limiter is late by -16.900000 [ms]\n",
      "WARNING:root:rate limiter is late by -3.100000 [ms]\n",
      "WARNING:root:rate limiter is late by -3.200000 [ms]\n",
      "WARNING:root:rate limiter is late by -13.200000 [ms]\n",
      "WARNING:root:rate limiter is late by -1.200000 [ms]\n",
      "WARNING:root:rate limiter is late by -1.200000 [ms]\n"
     ]
    }
   ],
   "source": [
    "# ==== Model =====\n",
    "# Update initial configuration\n",
    "ur5_configuration.update(ur5_q_ref)\n",
    "\n",
    "# ===== Tasks =====\n",
    "# Task for tracking end-effector\n",
    "end_effector_task = FrameTask(\n",
    "    \"ee_link\",\n",
    "    position_cost=50.0,  # [cost] / [m]\n",
    "    orientation_cost=1.0,  # [cost] / [rad]\n",
    ")\n",
    "posture_task = PostureTask(\n",
    "    cost=1e-3,  # [cost] / [rad]\n",
    ")\n",
    "tasks = [end_effector_task, posture_task]\n",
    "\n",
    "# Initializing task target values\n",
    "for task in tasks:\n",
    "    task.set_target_from_configuration(ur5_configuration)\n",
    "\n",
    "# ===== Barriers =====\n",
    "# Barrier for end-effector, which limits maximal y coordinate \n",
    "# value to 0.6\n",
    "pos_cbf = PositionBarrier(\n",
    "    \"ee_link\",\n",
    "    indices=[1],    # Select only y coordinate\n",
    "    max=np.array([0.6]),\n",
    "    gain=np.array([100.0]),\n",
    "    r=1.0,\n",
    ")\n",
    "cbf_list = [pos_cbf]\n",
    "\n",
    "# ===== Visualization =====\n",
    "viz = start_meshcat_visualizer(ur5_robot, open=False)\n",
    "viewer = viz.viewer\n",
    "display(viewer.jupyter_cell())\n",
    "\n",
    "viz.display(ur5_configuration.q)\n",
    "\n",
    "# Initializing visualization frames\n",
    "meshcat_shapes.frame(viewer[\"end_effector_target\"], opacity=1.0)\n",
    "meshcat_shapes.frame(viewer[\"end_effector\"], opacity=1.0)\n",
    "\n",
    "# ===== Solver =====\n",
    "# Select QP solver\n",
    "solver = qpsolvers.available_solvers[0]\n",
    "if \"ecos\" in qpsolvers.available_solvers:\n",
    "    solver = \"ecos\"\n",
    "\n",
    "# ===== Control Loop =====\n",
    "rate = RateLimiter(frequency=150.0)\n",
    "dt = rate.period\n",
    "t = 0.0  # [s]\n",
    "while t < 20:\n",
    "    # Update task targets\n",
    "    end_effector_target = end_effector_task.transform_target_to_world\n",
    "    end_effector_target.translation[1] = 0.0 + 0.7 * np.sin(t / 2)\n",
    "    end_effector_target.translation[2] = 0.2\n",
    "\n",
    "    # Update visualization frames\n",
    "    viewer[\"end_effector_target\"].set_transform(end_effector_target.np)\n",
    "    viewer[\"end_effector\"].set_transform(ur5_configuration.get_transform_frame_to_world(end_effector_task.frame).np)\n",
    "\n",
    "    # Compute velocity and integrate it into next configuration\n",
    "    # Note that default position limit handle given trajectory\n",
    "    # much worse than CBF. Hence, we disable it here.\n",
    "    velocity = solve_ik(\n",
    "        ur5_configuration,\n",
    "        tasks,\n",
    "        dt,\n",
    "        solver=solver,\n",
    "        cbfs=cbf_list,\n",
    "    )\n",
    "    ur5_configuration.integrate_inplace(velocity, dt)\n",
    "\n",
    "    # Visualize result at fixed FPS\n",
    "    viz.display(ur5_configuration.q)\n",
    "    rate.sleep()\n",
    "    t += dt\n"
   ]
  },
  {
   "cell_type": "markdown",
   "metadata": {},
   "source": [
    "As you could see, the position barrier prevented the robot from going out of the safe set, i.e. $y_{ee} \\leq 0.6$. "
   ]
  },
  {
   "cell_type": "markdown",
   "metadata": {},
   "source": [
    "Apart from limiting the position of the frame, it also allows to implement joint limits."
   ]
  },
  {
   "cell_type": "markdown",
   "metadata": {},
   "source": [
    "## Joint Barrier"
   ]
  },
  {
   "cell_type": "markdown",
   "metadata": {},
   "source": [
    "Joint barrier incorporates constraint on the joints given by urdf model:\n",
    "$$q_{min} \\leq q \\leq q_{max}$$\n",
    "which could be writeen in the form $h(q) \\geq 0$ as:\n",
    "$$h_j(\\boldsymbol{q}) = \\begin{cases} \n",
    "      q_j - q_j^{min} & j = 1,\\dots,n \\\\\n",
    "      q_j^{max} - q_j & j = n+1,\\dots,2n\n",
    "   \\end{cases}$$\n",
    "\n"
   ]
  },
  {
   "cell_type": "markdown",
   "metadata": {},
   "source": [
    "Let's add joint barrier to the previous example:"
   ]
  },
  {
   "cell_type": "code",
   "execution_count": 5,
   "metadata": {},
   "outputs": [
    {
     "name": "stdout",
     "output_type": "stream",
     "text": [
      "You can open the visualizer by visiting the following URL:\n",
      "http://127.0.0.1:7023/static/\n"
     ]
    },
    {
     "data": {
      "text/html": [
       "\n",
       "            <div style=\"height: 400px; width: 100%; overflow-x: auto; overflow-y: hidden; resize: both\">\n",
       "            <iframe src=\"http://127.0.0.1:7023/static/\" style=\"width: 100%; height: 100%; border: none\"></iframe>\n",
       "            </div>\n",
       "            "
      ],
      "text/plain": [
       "<IPython.core.display.HTML object>"
      ]
     },
     "metadata": {},
     "output_type": "display_data"
    },
    {
     "name": "stderr",
     "output_type": "stream",
     "text": [
      "WARNING:root:rate limiter is late by -1.200000 [ms]\n",
      "WARNING:root:rate limiter is late by -100.800000 [ms]\n",
      "WARNING:root:rate limiter is late by -1.700000 [ms]\n",
      "WARNING:root:rate limiter is late by -15.000000 [ms]\n",
      "WARNING:root:rate limiter is late by -4.500000 [ms]\n"
     ]
    }
   ],
   "source": [
    "# ==== Model =====\n",
    "# Update initial configuration\n",
    "ur5_configuration.update(ur5_q_ref)\n",
    "\n",
    "# ===== Tasks =====\n",
    "# Initializing task target values\n",
    "for task in tasks:\n",
    "    task.set_target_from_configuration(ur5_configuration)\n",
    "\n",
    "# ===== Barriers =====\n",
    "# Barrier for end-effector, which limits maximal y coordinate \n",
    "# value to 0.6\n",
    "\n",
    "configuration_cbf = ConfigurationBarrier(ur5_robot.model, gain=100, r=1.0)\n",
    "cbf_list = [pos_cbf, configuration_cbf]\n",
    "\n",
    "# ===== Visualization =====\n",
    "viz = start_meshcat_visualizer(ur5_robot, open=False)\n",
    "viewer = viz.viewer\n",
    "display(viewer.jupyter_cell())\n",
    "\n",
    "viz.display(ur5_configuration.q)\n",
    "\n",
    "# Initializing visualization frames\n",
    "meshcat_shapes.frame(viewer[\"end_effector_target\"], opacity=1.0)\n",
    "meshcat_shapes.frame(viewer[\"end_effector\"], opacity=1.0)\n",
    "\n",
    "# ===== Solver =====\n",
    "# Select QP solver\n",
    "solver = qpsolvers.available_solvers[0]\n",
    "if \"ecos\" in qpsolvers.available_solvers:\n",
    "    solver = \"ecos\"\n",
    "\n",
    "# ===== Control Loop =====\n",
    "rate = RateLimiter(frequency=150.0)\n",
    "dt = rate.period\n",
    "t = 0.0  # [s]\n",
    "while t < 20:\n",
    "    # Update task targets\n",
    "    end_effector_target = end_effector_task.transform_target_to_world\n",
    "    end_effector_target.translation[1] = 0.0 + 0.7 * np.sin(t / 2)\n",
    "    end_effector_target.translation[2] = 0.2\n",
    "\n",
    "    # Update visualization frames\n",
    "    viewer[\"end_effector_target\"].set_transform(end_effector_target.np)\n",
    "    viewer[\"end_effector\"].set_transform(ur5_configuration.get_transform_frame_to_world(end_effector_task.frame).np)\n",
    "\n",
    "    # Compute velocity and integrate it into next configuration\n",
    "    # Note that default position limit handle given trajectory\n",
    "    # much worse than CBF. Hence, we disable it here.\n",
    "    velocity = solve_ik(\n",
    "        ur5_configuration,\n",
    "        tasks,\n",
    "        dt,\n",
    "        solver=solver,\n",
    "        cbfs=cbf_list,\n",
    "        use_position_limit=False,  # Disable joint limit handle\n",
    "    )\n",
    "    ur5_configuration.integrate_inplace(velocity, dt)\n",
    "\n",
    "    # Visualize result at fixed FPS\n",
    "    viz.display(ur5_configuration.q)\n",
    "    rate.sleep()\n",
    "    t += dt\n"
   ]
  },
  {
   "cell_type": "markdown",
   "metadata": {},
   "source": [
    "The results are the same as in previous example, but the paradigm has changed."
   ]
  },
  {
   "cell_type": "markdown",
   "metadata": {},
   "source": [
    "In the simulation, one could notice that some self-collisions are present. This is obviously not acceptable in the real world. Therefore, the next section describes the implementation of collision-avoidance barriers."
   ]
  },
  {
   "cell_type": "markdown",
   "metadata": {},
   "source": [
    "## Collision-Avoidance Barrier"
   ]
  },
  {
   "cell_type": "markdown",
   "metadata": {},
   "source": [
    "The collision avoidance barrier is formulated as minimal distance between two specified frames:\n",
    "$$||(p_i(\\boldsymbol{q}), p_k(\\boldsymbol{q}))||_2^2 \\geq d_{safe}^2$$\n",
    "which could be writeen in the form $h(q) \\geq 0$ as:\n",
    "$$h_j(\\boldsymbol{q}) = ||(p_i(\\boldsymbol{q}), p_k(\\boldsymbol{q}))||_2^2 - d_{safe}^2$$"
   ]
  },
  {
   "cell_type": "markdown",
   "metadata": {},
   "source": [
    "Let's examine how it works using example with two-armed manipulator `yumi`:"
   ]
  },
  {
   "cell_type": "code",
   "execution_count": 7,
   "metadata": {},
   "outputs": [
    {
     "name": "stdout",
     "output_type": "stream",
     "text": [
      "You can open the visualizer by visiting the following URL:\n",
      "http://127.0.0.1:7025/static/\n"
     ]
    },
    {
     "data": {
      "text/html": [
       "\n",
       "            <div style=\"height: 400px; width: 100%; overflow-x: auto; overflow-y: hidden; resize: both\">\n",
       "            <iframe src=\"http://127.0.0.1:7025/static/\" style=\"width: 100%; height: 100%; border: none\"></iframe>\n",
       "            </div>\n",
       "            "
      ],
      "text/plain": [
       "<IPython.core.display.HTML object>"
      ]
     },
     "metadata": {},
     "output_type": "display_data"
    },
    {
     "name": "stderr",
     "output_type": "stream",
     "text": [
      "WARNING:root:rate limiter is late by -3.300000 [ms]\n",
      "WARNING:root:rate limiter is late by -5.800000 [ms]\n",
      "WARNING:root:rate limiter is late by -2.200000 [ms]\n"
     ]
    }
   ],
   "source": [
    "# ==== Tasks =====\n",
    "# end-effector tracking tasks\n",
    "left_ee_task = FrameTask(\n",
    "    \"yumi_link_7_l\",\n",
    "    position_cost=50.0,  # [cost] / [m]\n",
    "    orientation_cost=1.0,  # [cost] / [rad]\n",
    ")\n",
    "right_ee_task = FrameTask(\n",
    "    \"yumi_link_7_r\",\n",
    "    position_cost=50.0,  # [cost] / [m]\n",
    "    orientation_cost=1.0,  # [cost] / [rad]\n",
    ")\n",
    "# Posture task for regulation\n",
    "posture_task = PostureTask(\n",
    "    cost=1e-3,  # [cost] / [rad]\n",
    ")\n",
    "tasks = [left_ee_task, right_ee_task, posture_task]\n",
    "\n",
    "for task in tasks:\n",
    "    task.set_target_from_configuration(yumi_configuration)\n",
    "\n",
    "# ===== Barriers =====\n",
    "# End-effector collision-avoidance barrier\n",
    "ee_barrier = BodySphericalBarrier(\n",
    "    (\"yumi_barrier_l\", \"yumi_barrier_r\"),\n",
    "    d_min=0.2,\n",
    "    gain=100.0,\n",
    "    r=1.0,\n",
    ")\n",
    "# Joint limit barrier\n",
    "configuration_cbf = ConfigurationBarrier(yumi_robot.model, gain=1, r=400.0)\n",
    "cbf_list = [ee_barrier, configuration_cbf]\n",
    "\n",
    "# ==== Visualization =====\n",
    "viz = start_meshcat_visualizer(yumi_robot, open=False)\n",
    "viewer = viz.viewer\n",
    "display(viewer.jupyter_cell())\n",
    "\n",
    "viz.display(yumi_configuration.q)\n",
    "\n",
    "meshcat_shapes.frame(viewer[\"left_end_effector_target\"], opacity=1.0)\n",
    "meshcat_shapes.frame(viewer[\"right_end_effector_target\"], opacity=1.0)\n",
    "meshcat_shapes.sphere(\n",
    "    viewer[\"left_ee_barrier\"],\n",
    "    opacity=0.4,\n",
    "    color=0xFF0000,\n",
    "    radius=0.1,\n",
    ")\n",
    "meshcat_shapes.sphere(\n",
    "    viewer[\"right_ee_barrier\"],\n",
    "    opacity=0.4,\n",
    "    color=0x00FF00,\n",
    "    radius=0.1,\n",
    ")\n",
    "\n",
    "# ==== Solver =====\n",
    "# Select QP solver\n",
    "solver = qpsolvers.available_solvers[0]\n",
    "if \"ecos\" in qpsolvers.available_solvers:\n",
    "    solver = \"ecos\"\n",
    "\n",
    "# ===== Control Loop =====\n",
    "rate = RateLimiter(frequency=100.0)\n",
    "dt = rate.period\n",
    "t = 0.0  # [s]\n",
    "\n",
    "# Desired position values\n",
    "l_y_des = np.array([0.392, 0.392, 0.6])\n",
    "r_y_des = np.array([0.392, 0.392, 0.6])\n",
    "l_dy_des = np.zeros(3)\n",
    "r_dy_des = np.zeros(3)\n",
    "\n",
    "while t < 20:\n",
    "    # Desired trajectories is sinusoidal waves in y and z directions.\n",
    "    # They also tend to collide with each other.\n",
    "    l_y_des[:] = 0.6, 0.1 + 0.25 * np.sin(2 * t), 0.6 + 0.1 * np.sin(2 * t)\n",
    "    r_y_des[:] = 0.6, -0.1 - 0.25 * np.sin(2 * t), 0.6 + 0.1 * np.sin(2 * t)\n",
    "\n",
    "    left_ee_task.transform_target_to_world.translation = l_y_des\n",
    "    right_ee_task.transform_target_to_world.translation = r_y_des\n",
    "\n",
    "    # Update visualization frames\n",
    "    viewer[\"left_end_effector_target\"].set_transform(left_ee_task.transform_target_to_world.np)\n",
    "    viewer[\"right_end_effector_target\"].set_transform(right_ee_task.transform_target_to_world.np)\n",
    "    viewer[\"left_ee_barrier\"].set_transform(yumi_configuration.get_transform_frame_to_world(\"yumi_barrier_l\").np)\n",
    "    viewer[\"right_ee_barrier\"].set_transform(yumi_configuration.get_transform_frame_to_world(\"yumi_barrier_r\").np)\n",
    "\n",
    "    # Compute velocity and integrate it into next configuration\n",
    "    # Note that default position limit handle given trajectory\n",
    "    # much worse than CBF. Hence, we disable it here.\n",
    "    velocity = solve_ik(\n",
    "        yumi_configuration,\n",
    "        tasks,\n",
    "        dt,\n",
    "        solver=solver,\n",
    "        cbfs=cbf_list,\n",
    "        use_position_limit=False,\n",
    "    )\n",
    "    yumi_configuration.integrate_inplace(velocity, dt)\n",
    "    # Visualize result at fixed FPS\n",
    "    viz.display(yumi_configuration.q)\n",
    "    rate.sleep()\n",
    "    t += dt\n"
   ]
  },
  {
   "cell_type": "markdown",
   "metadata": {},
   "source": [
    "In the example, specified frames did not collide, despite task values motivated them to do so."
   ]
  },
  {
   "cell_type": "markdown",
   "metadata": {},
   "source": []
  }
 ],
 "metadata": {
  "kernelspec": {
   "display_name": "pink",
   "language": "python",
   "name": "python3"
  },
  "language_info": {
   "codemirror_mode": {
    "name": "ipython",
    "version": 3
   },
   "file_extension": ".py",
   "mimetype": "text/x-python",
   "name": "python",
   "nbconvert_exporter": "python",
   "pygments_lexer": "ipython3",
   "version": "3.10.14"
  }
 },
 "nbformat": 4,
 "nbformat_minor": 2
}
